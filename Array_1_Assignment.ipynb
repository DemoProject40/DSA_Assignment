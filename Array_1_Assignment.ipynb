{
 "cells": [
  {
   "cell_type": "markdown",
   "id": "d155cdab",
   "metadata": {},
   "source": [
    "# Assignment 1 Questions - Arrays | DSA"
   ]
  },
  {
   "cell_type": "markdown",
   "id": "5a4d2087",
   "metadata": {},
   "source": [
    "<aside>\n",
    "💡 **Q1.** Given an array of integers nums and an integer target, return indices of the two numbers such that they add up to target.\n",
    "\n",
    "You may assume that each input would have exactly one solution, and you may not use the same element twice.\n",
    "\n",
    "You can return the answer in any order.\n",
    "\n",
    "**Example:**\n",
    "Input: nums = [2,7,11,15], target = 9\n",
    "Output0 [0,1]\n",
    "\n",
    "**Explanation:** Because nums[0] + nums[1] == 9, we return [0, 1][\n",
    "\n",
    "</aside>"
   ]
  },
  {
   "cell_type": "code",
   "execution_count": 1,
   "id": "f8b6011d",
   "metadata": {},
   "outputs": [
    {
     "name": "stdout",
     "output_type": "stream",
     "text": [
      "Enter the value of the Targeted Value : 9\n",
      "list[0, 1]\n"
     ]
    }
   ],
   "source": [
    "def target(arr):\n",
    "    target_value = int(input('Enter the value of the Targeted Value : '))\n",
    "    for i in range(len(arr)):\n",
    "        for j in range(len(arr)):\n",
    "            if arr[i] + arr[j] == target_value:\n",
    "                return list[i,j]\n",
    "            \n",
    "array = [2,7,11,15]\n",
    "print(target(array))"
   ]
  },
  {
   "cell_type": "markdown",
   "id": "c911e70e",
   "metadata": {},
   "source": [
    "<aside>\n",
    "💡 **Q2.** Given an integer array nums and an integer val, remove all occurrences of val in nums in-place. The order of the elements may be changed. Then return the number of elements in nums which are not equal to val.\n",
    "\n",
    "Consider the number of elements in nums which are not equal to val be k, to get accepted, you need to do the following things:\n",
    "\n",
    "- Change the array nums such that the first k elements of nums contain the elements which are not equal to val. The remaining elements of nums are not important as well as the size of nums.\n",
    "- Return k.\n",
    "\n",
    "**Example :**\n",
    "Input: nums = [3,2,2,3], val = 3\n",
    "Output: 2, nums = [2,2,_*,_*]\n",
    "\n",
    "**Explanation:** Your function should return k = 2, with the first two elements of nums being 2. It does not matter what you leave beyond the returned k (hence they are underscores)[\n",
    "\n",
    "</aside>"
   ]
  },
  {
   "cell_type": "code",
   "execution_count": 2,
   "id": "c542e076",
   "metadata": {},
   "outputs": [
    {
     "name": "stdout",
     "output_type": "stream",
     "text": [
      "k: 2\n",
      "Updated nums: [2, 2]\n"
     ]
    }
   ],
   "source": [
    "def remove_element(nums, val):\n",
    "    i = 0\n",
    "    j = len(nums) - 1\n",
    "    while i <= j:\n",
    "        if nums[i] == val:\n",
    "            nums[i] = nums[j]\n",
    "            j = j - 1\n",
    "        else:\n",
    "            i = i + 1\n",
    "\n",
    "    return i\n",
    "\n",
    "nums = [3, 2, 2, 3]\n",
    "val = 3\n",
    "\n",
    "k = remove_element(nums, val)\n",
    "print(\"k:\", k)\n",
    "print(\"Updated nums:\", nums[:k])\n"
   ]
  },
  {
   "cell_type": "markdown",
   "id": "a4f02f17",
   "metadata": {},
   "source": [
    "<aside>\n",
    "💡 **Q3.** Given a sorted array of distinct integers and a target value, return the index if the target is found. If not, return the index where it would be if it were inserted in order.\n",
    "\n",
    "You must write an algorithm with O(log n) runtime complexity.\n",
    "\n",
    "**Example 1:**\n",
    "Input: nums = [1,3,5,6], target = 5\n",
    "\n",
    "Output: 2\n",
    "\n",
    "</aside>"
   ]
  },
  {
   "cell_type": "code",
   "execution_count": 3,
   "id": "916a2bb9",
   "metadata": {},
   "outputs": [
    {
     "name": "stdout",
     "output_type": "stream",
     "text": [
      "Enter the value of the Targeted Value : 5\n",
      "Index =  [2]\n"
     ]
    }
   ],
   "source": [
    "def distinct(arr,target):\n",
    "    for i in range(len(arr)):\n",
    "        if arr[i] == target:\n",
    "            return [i]\n",
    "    \n",
    "array = [1,3,5,6] \n",
    "target_value = int(input('Enter the value of the Targeted Value : '))\n",
    "print(\"Index = \",distinct(array,target_value))"
   ]
  },
  {
   "cell_type": "markdown",
   "id": "ca3473b5",
   "metadata": {},
   "source": [
    "<aside>\n",
    "💡 **Q4.** You are given a large integer represented as an integer array digits, where each digits[i] is the ith digit of the integer. The digits are ordered from most significant to least significant in left-to-right order. The large integer does not contain any leading 0's.\n",
    "\n",
    "Increment the large integer by one and return the resulting array of digits.\n",
    "\n",
    "**Example 1:**\n",
    "Input: digits = [1,2,3]\n",
    "Output: [1,2,4]\n",
    "\n",
    "**Explanation:** The array represents the integer 123.\n",
    "\n",
    "Incrementing by one gives 123 + 1 = 124.\n",
    "Thus, the result should be [1,2,4].\n",
    "\n",
    "</aside>"
   ]
  },
  {
   "cell_type": "code",
   "execution_count": 4,
   "id": "ab6302d6",
   "metadata": {},
   "outputs": [
    {
     "name": "stdout",
     "output_type": "stream",
     "text": [
      "[1, 2, 4]\n"
     ]
    }
   ],
   "source": [
    "def plusOne(digits):\n",
    "    digit_length = len(digits) \n",
    "    i = digit_length - 1 \n",
    "    while digits[i] == 9 and i >= 0:\n",
    "        i = i - 1\n",
    "        \n",
    "    if i == -1:\n",
    "        results = [0]*(digit_length + 1)\n",
    "        results[0] = 1\n",
    "        return results\n",
    "        \n",
    "    results = [0]*(digit_length) \n",
    "    results[i] = digits[i] + 1\n",
    "        \n",
    "    for j in range(i-1, -1, -1):\n",
    "        results[j] = digits[j]\n",
    "        \n",
    "    return results\n",
    "\n",
    "digits = [1,2,3]\n",
    "print(plusOne(digits))"
   ]
  },
  {
   "cell_type": "markdown",
   "id": "b2c3645c",
   "metadata": {},
   "source": [
    "<aside>\n",
    "💡 **Q5.** You are given two integer arrays nums1 and nums2, sorted in non-decreasing order, and two integers m and n, representing the number of elements in nums1 and nums2 respectively.\n",
    "\n",
    "Merge nums1 and nums2 into a single array sorted in non-decreasing order.\n",
    "\n",
    "The final sorted array should not be returned by the function, but instead be stored inside the array nums1. To accommodate this, nums1 has a length of m + n, where the first m elements denote the elements that should be merged, and the last n elements are set to 0 and should be ignored. nums2 has a length of n.\n",
    "\n",
    "**Example 1:**\n",
    "Input: nums1 = [1,2,3,0,0,0], m = 3, nums2 = [2,5,6], n = 3\n",
    "Output: [1,2,2,3,5,6]\n",
    "\n",
    "**Explanation:** The arrays we are merging are [1,2,3] and [2,5,6].\n",
    "The result of the merge is [1,2,2,3,5,6] with the underlined elements coming from nums1.\n",
    "\n",
    "</aside>"
   ]
  },
  {
   "cell_type": "code",
   "execution_count": 7,
   "id": "4277f49f",
   "metadata": {},
   "outputs": [
    {
     "name": "stdout",
     "output_type": "stream",
     "text": [
      "[1, 2, 2, 3, 5, 6]\n"
     ]
    }
   ],
   "source": [
    "def sorted_array(num1,num2):\n",
    "    a=len(nums1)\n",
    "    i=0\n",
    "    j=0\n",
    "    while i< a:\n",
    "        if n  == 0 or m==0 :\n",
    "            return nums1\n",
    "        if nums1[i]==0:\n",
    "            nums1[i]=nums2[j]\n",
    "            j+=1\n",
    "        i+=1\n",
    "    return sorted(nums1)\n",
    "\n",
    "nums1 = [1,2,3,0,0,0]\n",
    "m = 3\n",
    "nums2 = [2,5,6]\n",
    "n = 3\n",
    "print(sorted_array(nums1,nums2))"
   ]
  },
  {
   "cell_type": "markdown",
   "id": "eadb5660",
   "metadata": {},
   "source": [
    "\n",
    "<aside>\n",
    "💡 **Q6.** Given an integer array nums, return true if any value appears at least twice in the array, and return false if every element is distinct.\n",
    "\n",
    "**Example 1:**\n",
    "Input: nums = [1,2,3,1]\n",
    "\n",
    "Output: true\n",
    "\n",
    "</aside>"
   ]
  },
  {
   "cell_type": "code",
   "execution_count": 8,
   "id": "8be426f3",
   "metadata": {},
   "outputs": [
    {
     "name": "stdout",
     "output_type": "stream",
     "text": [
      "True\n"
     ]
    }
   ],
   "source": [
    "def distinct_element(arr):\n",
    "    for i in range(len(arr)):\n",
    "        for j in range(i+1,len(arr)):\n",
    "             if arr[i] == arr[j]:\n",
    "                    return True\n",
    "    return False\n",
    "    \n",
    "array = [1,2,3,1]\n",
    "print(distinct_element(array))"
   ]
  },
  {
   "cell_type": "markdown",
   "id": "4bc5f7f6",
   "metadata": {},
   "source": [
    "<aside>\n",
    "💡 **Q7.** Given an integer array nums, move all 0's to the end of it while maintaining the relative order of the nonzero elements.\n",
    "\n",
    "Note that you must do this in-place without making a copy of the array.\n",
    "\n",
    "**Example 1:**\n",
    "Input: nums = [0,1,0,3,12]\n",
    "Output: [1,3,12,0,0]\n",
    "\n",
    "</aside>"
   ]
  },
  {
   "cell_type": "code",
   "execution_count": 9,
   "id": "42fd0222",
   "metadata": {},
   "outputs": [
    {
     "name": "stdout",
     "output_type": "stream",
     "text": [
      "[1, 3, 12, 0, 0]\n"
     ]
    }
   ],
   "source": [
    "def Push_Zero_to_Last(arr):\n",
    "    \n",
    "    for i in range(len(arr)-1):\n",
    "        for j in range(len(arr)-1):\n",
    "            if arr[j] == 0:\n",
    "                arr[j],arr[j+1] =  arr[j + 1],arr[j]\n",
    "            \n",
    "    return arr\n",
    "    \n",
    "array = [0,1,0,3,12]\n",
    "print(Push_Zero_to_Last(array))"
   ]
  },
  {
   "cell_type": "markdown",
   "id": "9339e3aa",
   "metadata": {},
   "source": [
    "<aside>\n",
    "💡 **Q8.** You have a set of integers s, which originally contains all the numbers from 1 to n. Unfortunately, due to some error, one of the numbers in s got duplicated to another number in the set, which results in repetition of one number and loss of another number.\n",
    "\n",
    "You are given an integer array nums representing the data status of this set after the error.\n",
    "\n",
    "Find the number that occurs twice and the number that is missing and return them in the form of an array.\n",
    "\n",
    "**Example 1:**\n",
    "Input: nums = [1,2,2,4]\n",
    "Output: [2,3]\n",
    "\n",
    "</aside>"
   ]
  },
  {
   "cell_type": "code",
   "execution_count": 10,
   "id": "86febb22",
   "metadata": {},
   "outputs": [
    {
     "name": "stdout",
     "output_type": "stream",
     "text": [
      "[2, 3]\n"
     ]
    }
   ],
   "source": [
    "def repetion(arr):\n",
    "    repeat = 0\n",
    "    miss = 0\n",
    "    for i in range(len(arr)):\n",
    "        if i == len(arr)-1:\n",
    "            break\n",
    "        if arr[i] == arr[i+1]:\n",
    "            repeat = arr[i]\n",
    "        if arr[i+1] - arr[i]!= 1:\n",
    "            miss = i+1\n",
    "    \n",
    "    return [repeat,miss]\n",
    "\n",
    "array = [1,2,2,4]\n",
    "print(repetion(array))"
   ]
  },
  {
   "cell_type": "code",
   "execution_count": null,
   "id": "705f4bd9",
   "metadata": {},
   "outputs": [],
   "source": []
  },
  {
   "cell_type": "code",
   "execution_count": null,
   "id": "a0386ce4",
   "metadata": {},
   "outputs": [],
   "source": []
  }
 ],
 "metadata": {
  "kernelspec": {
   "display_name": "Python 3 (ipykernel)",
   "language": "python",
   "name": "python3"
  },
  "language_info": {
   "codemirror_mode": {
    "name": "ipython",
    "version": 3
   },
   "file_extension": ".py",
   "mimetype": "text/x-python",
   "name": "python",
   "nbconvert_exporter": "python",
   "pygments_lexer": "ipython3",
   "version": "3.10.9"
  }
 },
 "nbformat": 4,
 "nbformat_minor": 5
}
