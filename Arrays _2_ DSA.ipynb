{
 "cells": [
  {
   "cell_type": "markdown",
   "id": "a9567d1c",
   "metadata": {},
   "source": [
    "Question 1\n",
    "\n",
    "Given an integer array nums of 2n integers, group these integers into n pairs (a1, b1), (a2, b2),\n",
    "..., (an, bn) such that the sum of min(ai, bi) for all i is maximized. Return the maximized sum.\n",
    "\n",
    "Example 1:\n",
    "Input: nums = [1,4,3,2]\n",
    "Output: 4\n",
    "\n",
    "Explanation: All possible pairings (ignoring the ordering of elements) are:\n",
    "1. (1, 4), (2, 3) -> min(1, 4) + min(2, 3) = 1 + 2 = 3\n",
    "2. (1, 3), (2, 4) -> min(1, 3) + min(2, 4) = 1 + 2 = 3\n",
    "3. (1, 2), (3, 4) -> min(1, 2) + min(3, 4) = 1 + 3 = 4\n",
    "So the maximum possible sum is 4\n"
   ]
  },
  {
   "cell_type": "code",
   "execution_count": 1,
   "id": "934dda90",
   "metadata": {},
   "outputs": [
    {
     "name": "stdout",
     "output_type": "stream",
     "text": [
      "4\n"
     ]
    }
   ],
   "source": [
    "def pair_group_to_integer(arr):\n",
    "    arr.sort()\n",
    "    result = 0\n",
    "\n",
    "    for i in range(0, len(arr), 2):\n",
    "        pair_sum = min(arr[i], arr[i+1]) if i+1 < len(arr) else arr[i]\n",
    "        result += pair_sum\n",
    "\n",
    "    return result\n",
    "\n",
    "nums = [1,4,3,2]\n",
    "print(pair_group_to_integer(nums))"
   ]
  },
  {
   "cell_type": "markdown",
   "id": "2b070763",
   "metadata": {},
   "source": [
    "Question 2\n",
    "\n",
    "Alice has n candies, where the ith candy is of type candyType[i]. Alice noticed that she started\n",
    "to gain weight, so she visited a doctor.\n",
    "The doctor advised Alice to only eat n / 2 of the candies she has (n is always even). Alice\n",
    "likes her candies very much, and she wants to eat the maximum number of different types of\n",
    "candies while still following the doctor's advice.\n",
    "Given the integer array candyType of length n, return the maximum number of different types\n",
    "of candies she can eat if she only eats n / 2 of them.\n",
    "\n",
    "Example 1:\n",
    "Input: candyType = [1,1,2,2,3,3]\n",
    "Output: 3\n",
    "\n",
    "Explanation: Alice can only eat 6 / 2 = 3 candies. Since there are only 3 types, she can eat one\n",
    "of each type.\n"
   ]
  },
  {
   "cell_type": "code",
   "execution_count": 2,
   "id": "357bf8e8",
   "metadata": {},
   "outputs": [
    {
     "name": "stdout",
     "output_type": "stream",
     "text": [
      "1\n",
      "2\n",
      "3\n"
     ]
    }
   ],
   "source": [
    "def morethanNbyK(arr, n, k):\n",
    "    x = n // k\n",
    "    freq = {}\n",
    "\n",
    "    for i in range(n):\n",
    "        if arr[i] in freq:\n",
    "            freq[arr[i]] += 1\n",
    "        else:\n",
    "            freq[arr[i]] = 1\n",
    "\n",
    "    for i in freq:\n",
    "        if (freq[i] > x):\n",
    "            print(i)\n",
    "\n",
    "\n",
    "arr = [1,1,2,2,3,3] \n",
    "n = len(arr)\n",
    "k = 5\n",
    "morethanNbyK(arr, n, k)"
   ]
  },
  {
   "cell_type": "markdown",
   "id": "1bbe62c2",
   "metadata": {},
   "source": [
    "Questions 3\n",
    "\n",
    "We define a harmonious array as an array where the difference between its maximum value\n",
    "and its minimum value is exactly 1.\n",
    "Given an integer array nums, return the length of its longest harmonious subsequence\n",
    "among all its possible subsequences.\n",
    "A subsequence of an array is a sequence that can be derived from the array by deleting some\n",
    "or no elements without changing the order of the remaining elements.\n",
    "\n",
    "Example 1:\n",
    "Input: nums = [1,3,2,2,5,2,3,7]\n",
    "\n",
    "Output: 5\n",
    "Explanation: The longest harmonious subsequence is [3,2,2,2,3].\n"
   ]
  },
  {
   "cell_type": "code",
   "execution_count": 3,
   "id": "5ad71ef9",
   "metadata": {},
   "outputs": [
    {
     "name": "stdout",
     "output_type": "stream",
     "text": [
      "The longest harmonious subsequence is: 5\n"
     ]
    }
   ],
   "source": [
    "from collections import Counter\n",
    "\n",
    "def harmonic(nums):\n",
    "    freq = Counter(nums)\n",
    "    length = 0\n",
    "    \n",
    "    for num in freq:\n",
    "        if num + 1 in freq:\n",
    "            current_length = freq[num] + freq[num + 1]\n",
    "            if current_length > length:\n",
    "                length = current_length\n",
    "    \n",
    "    return length\n",
    "\n",
    "nums =  [1,3,2,2,5,2,3,7]\n",
    "max_length = harmonic(nums)\n",
    "\n",
    "print(\"The longest harmonious subsequence is:\", max_length)\n"
   ]
  },
  {
   "cell_type": "markdown",
   "id": "e5af4c03",
   "metadata": {},
   "source": [
    "Question 4\n",
    "\n",
    "You have a long flowerbed in which some of the plots are planted, and some are not.\n",
    "However, flowers cannot be planted in adjacent plots.\n",
    "Given an integer array flowerbed containing 0's and 1's, where 0 means empty and 1 means\n",
    "not empty, and an integer n, return true if n new flowers can be planted in the flowerbed\n",
    "without violating the no-adjacent-flowers rule and false otherwise.\n",
    "\n",
    "Example 1:\n",
    "Input: flowerbed = [1,0,0,0,1], n = 1\n",
    "\n",
    "Output: true\n"
   ]
  },
  {
   "cell_type": "code",
   "execution_count": 4,
   "id": "e893072b",
   "metadata": {},
   "outputs": [
    {
     "name": "stdout",
     "output_type": "stream",
     "text": [
      "False\n"
     ]
    }
   ],
   "source": [
    "def adjecent(arr,x):\n",
    "    flowers = False\n",
    "    i = 0\n",
    "    j = 1\n",
    "    sum = len(arr) - 1\n",
    "    while(sum):\n",
    "        if arr[i] + arr[j] > x  :\n",
    "            flowers = True\n",
    "            \n",
    "        i += 1\n",
    "        j += 1\n",
    "        sum = sum - 1\n",
    "        \n",
    "    return flowers\n",
    "            \n",
    "        \n",
    "    \n",
    "nums = [1,0,0,1]\n",
    "n = 1\n",
    "print(adjecent(nums,n))"
   ]
  },
  {
   "cell_type": "markdown",
   "id": "9c277f01",
   "metadata": {},
   "source": [
    "Question 5\n",
    "\n",
    "Given an integer array nums, find three numbers whose product is maximum and return the\n",
    "maximum product.\n",
    "\n",
    "Example 1:\n",
    "Input: nums = [1,2,3]\n",
    "\n",
    "Output: 6\n"
   ]
  },
  {
   "cell_type": "code",
   "execution_count": 5,
   "id": "38c55f3a",
   "metadata": {},
   "outputs": [
    {
     "name": "stdout",
     "output_type": "stream",
     "text": [
      "6\n"
     ]
    }
   ],
   "source": [
    "def product(arr):\n",
    "    sum = 0\n",
    "    for i in range(len(arr)):\n",
    "        sum = sum + arr[i] \n",
    "    \n",
    "    return sum\n",
    "    \n",
    "    \n",
    "nums = [1,2,3]\n",
    "print(product(nums))"
   ]
  },
  {
   "cell_type": "markdown",
   "id": "a390a71e",
   "metadata": {},
   "source": [
    "Question 6\n",
    "\n",
    "Given an array of integers nums which is sorted in ascending order, and an integer target,\n",
    "write a function to search target in nums. If target exists, then return its index. Otherwise,\n",
    "return -1.\n",
    "\n",
    "You must write an algorithm with O(log n) runtime complexity.\n",
    "\n",
    "Input: nums = [-1,0,3,5,9,12], target = 9\n",
    "Output: 4\n",
    "\n",
    "Explanation: 9 exists in nums and its index is 4\n"
   ]
  },
  {
   "cell_type": "code",
   "execution_count": 6,
   "id": "f2ded1af",
   "metadata": {},
   "outputs": [
    {
     "name": "stdout",
     "output_type": "stream",
     "text": [
      "Ente the target value : 9\n",
      "4\n"
     ]
    }
   ],
   "source": [
    "def search_index(arr,search):\n",
    "    i = 0\n",
    "    length = len(arr)\n",
    "    while(length):\n",
    "        if arr[i] == target:\n",
    "            return i\n",
    "        i += 1\n",
    "        length -= 1\n",
    "        \n",
    "    \n",
    "nums = [-1,0,3,5,9,12]\n",
    "target = int(input(\"Ente the target value : \"))\n",
    "print(search_index(nums,target))"
   ]
  },
  {
   "cell_type": "markdown",
   "id": "191da7ba",
   "metadata": {},
   "source": [
    "Question 7\n",
    "\n",
    "An array is monotonic if it is either monotone increasing or monotone decreasing.\n",
    "An array nums is monotone increasing if for all i <= j, nums[i] <= nums[j]. An array nums is\n",
    "monotone decreasing if for all i <= j, nums[i] >= nums[j].\n",
    "Given an integer array nums, return true if the given array is monotonic, or false otherwise.\n",
    "\n",
    "Example 1:\n",
    "Input: nums = [1,2,2,3]\n",
    "\n",
    "Output: true\n"
   ]
  },
  {
   "cell_type": "code",
   "execution_count": 7,
   "id": "ef7a85c6",
   "metadata": {},
   "outputs": [
    {
     "name": "stdout",
     "output_type": "stream",
     "text": [
      "True\n"
     ]
    }
   ],
   "source": [
    "def Monotonic(arr):\n",
    "    increasing = True\n",
    "    decreasing = True\n",
    "    i = 0\n",
    "    j = 1\n",
    "    for i in range(len(arr) - 1):\n",
    "        if arr[i] > arr[j]:\n",
    "            increasing = False\n",
    "        if arr[i] < arr[j]:\n",
    "            decreasing = False\n",
    "        i += 1\n",
    "        j += 1\n",
    "        \n",
    "    return increasing or decreasing \n",
    "                \n",
    "nums = [1,2,2,3]\n",
    "print(Monotonic(nums))\n"
   ]
  },
  {
   "cell_type": "markdown",
   "id": "315fd8d4",
   "metadata": {},
   "source": [
    "Question 8\n",
    "\n",
    "You are given an integer array nums and an integer k.\n",
    "In one operation, you can choose any index i where 0 <= i < nums.length and change nums[i]\n",
    "to nums[i] + x where x is an integer from the range [-k, k]. You can apply this operation at\n",
    "most once for each index i.\n",
    "The score of nums is the difference between the maximum and minimum elements in nums.\n",
    "Return the minimum score of nums after applying the mentioned operation at most once for\n",
    "each index in it.\n",
    "\n",
    "Example 1:\n",
    "Input: nums = [1], k = 0\n",
    "\n",
    "Output: 0\n",
    "\n",
    "Explanation: The score is max(nums) - min(nums) = 1 - 1 = 0.\n"
   ]
  },
  {
   "cell_type": "code",
   "execution_count": 8,
   "id": "b20cc177",
   "metadata": {},
   "outputs": [
    {
     "name": "stdout",
     "output_type": "stream",
     "text": [
      "1\n",
      "2\n"
     ]
    }
   ],
   "source": [
    "def morethanNbyK(arr, n, k):\n",
    "    x = n // k\n",
    "    freq = {}\n",
    "\n",
    "    for i in range(n):\n",
    "        if arr[i] in freq:\n",
    "            freq[arr[i]] += 1\n",
    "        else:\n",
    "            freq[arr[i]] = 1\n",
    "            \n",
    "    for i in freq:\n",
    "        if (freq[i] > x):\n",
    "            print(i)\n",
    "\n",
    "arr = [1, 1, 2, 2, 3, 5, 4, 2, 2, 3, 1, 1, 1]\n",
    "n = len(arr)\n",
    "k = 4\n",
    "morethanNbyK(arr, n, k)"
   ]
  },
  {
   "cell_type": "code",
   "execution_count": null,
   "id": "24a4a55e",
   "metadata": {},
   "outputs": [],
   "source": []
  },
  {
   "cell_type": "code",
   "execution_count": null,
   "id": "de1b30b4",
   "metadata": {},
   "outputs": [],
   "source": []
  }
 ],
 "metadata": {
  "kernelspec": {
   "display_name": "Python 3 (ipykernel)",
   "language": "python",
   "name": "python3"
  },
  "language_info": {
   "codemirror_mode": {
    "name": "ipython",
    "version": 3
   },
   "file_extension": ".py",
   "mimetype": "text/x-python",
   "name": "python",
   "nbconvert_exporter": "python",
   "pygments_lexer": "ipython3",
   "version": "3.10.9"
  }
 },
 "nbformat": 4,
 "nbformat_minor": 5
}
